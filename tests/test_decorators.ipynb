{
 "cells": [
  {
   "cell_type": "code",
   "execution_count": 1,
   "metadata": {
    "metadata": {}
   },
   "outputs": [
    {
     "name": "stderr",
     "output_type": "stream",
     "text": [
      "<frozen importlib._bootstrap>:228: RuntimeWarning: scipy._lib.messagestream.MessageStream size changed, may indicate binary incompatibility. Expected 56 from C header, got 64 from PyObject\n"
     ]
    }
   ],
   "source": [
    "import os\n",
    "\n",
    "import numpy as np\n",
    "from sklearn.utils import resample\n",
    "from CML_tool.decorators import file_based_cacheing\n",
    "from CML_tool.Utils import read_pickle"
   ]
  },
  {
   "cell_type": "code",
   "execution_count": 2,
   "metadata": {
    "metadata": {}
   },
   "outputs": [],
   "source": [
    "FILE_DIR = os.getcwd()"
   ]
  },
  {
   "cell_type": "code",
   "execution_count": 3,
   "metadata": {
    "metadata": {}
   },
   "outputs": [],
   "source": [
    "def gen_matrix(size:tuple=(10,20,50)):\n",
    "    # Define different distribution parameters\n",
    "    distributions_possibilities = [\n",
    "        {\"mu\": 0, \"sigma\": 1, \"label\": \"Standard Normal\"},\n",
    "        {\"mu\": 2, \"sigma\": 0.5, \"label\": \"Narrow Peak\"},\n",
    "        {\"mu\": -1, \"sigma\": 2, \"label\": \"Wide Spread\"},\n",
    "        {\"mu\": 3, \"sigma\": 1.5, \"label\": \"Shifted Right\"}\n",
    "    ]\n",
    "    \n",
    "    distributions = np.random.choice(distributions_possibilities, replace=True, size=size[1])\n",
    "\n",
    "    num_samples = size[0]\n",
    "    num_bootstraps = size[2]\n",
    "\n",
    "    # Generate data matrix\n",
    "    matrix = np.column_stack([\n",
    "            np.random.normal(dist['mu'], dist['sigma'], num_samples) \n",
    "            for dist in distributions\n",
    "            ])\n",
    "\n",
    "    # Perform bootstrapping using sklearn's resample\n",
    "    boot_matrix = np.zeros((num_samples, len(distributions), num_bootstraps))\n",
    "    for i in range(num_bootstraps):\n",
    "        # For each column (distribution), resample using sklearn\n",
    "        for j in range(len(distributions)):\n",
    "            boot_matrix[:, j, i] = resample(\n",
    "                matrix[:, j], \n",
    "                n_samples=num_samples, \n",
    "                replace=True, \n",
    "                random_state=i  # Use iteration as random state for reproducibility\n",
    "            )\n",
    "    print(f'Generated matrix with shape {boot_matrix.shape}')\n",
    "    return boot_matrix\n",
    "\n",
    "@file_based_cacheing(\n",
    "    path= os.path.join(FILE_DIR, 'test_files'),\n",
    "    filename='npz_dict',\n",
    "    extension_desired='npz')\n",
    "def mean_sign_dict(X: np.ndarray, **kwargs):\n",
    "    X_mean = X.mean(axis=0).T\n",
    "    sign = np.sign(np.mean(np.mean(X, axis=0), axis=1))\n",
    "    print(f'Returning mean matrix with shape {X_mean.shape} and sign array with shape {sign.shape}')\n",
    "    return {'X_mean':X_mean, 'sign':sign}\n",
    "\n",
    "@file_based_cacheing(\n",
    "    path= os.path.join(FILE_DIR, 'test_files'),\n",
    "    filename='npz_array',\n",
    "    extension_desired='npz')\n",
    "def mean_sign_arr(X: np.ndarray, **kwargs):\n",
    "    X_mean = X.mean(axis=0).T\n",
    "    sign = np.sign(np.mean(np.mean(X, axis=0), axis=1))\n",
    "    print(f'Returning mean matrix with shape {X_mean.shape} and sign array with shape {sign.shape}')\n",
    "    return X_mean, sign"
   ]
  },
  {
   "cell_type": "code",
   "execution_count": 5,
   "metadata": {
    "metadata": {}
   },
   "outputs": [
    {
     "name": "stderr",
     "output_type": "stream",
     "text": [
      "INFO:root:Function mean_sign_dict CACHED.\n",
      "INFO:root:No NPZ file npz_array.npz was found but a PICKLE file with that name was found and retrieved.\n",
      "INFO:root:Hence, function mean_sign_arr CACHED.\n"
     ]
    },
    {
     "name": "stdout",
     "output_type": "stream",
     "text": [
      "Generated matrix with shape (10, 20, 50)\n",
      "Was the DICT function chached?: True\n",
      "Was the ARRAY function chached?: True\n"
     ]
    }
   ],
   "source": [
    "X = gen_matrix(size=(10,20,50))\n",
    "arrays_dict, cached_dict = mean_sign_dict(X)\n",
    "arrays_pkl, cached_arr = mean_sign_arr(X)\n",
    "print(f'Was the DICT function chached?: {cached_dict}')\n",
    "print(f'Was the ARRAY function chached?: {cached_arr}')"
   ]
  },
  {
   "cell_type": "code",
   "execution_count": 6,
   "metadata": {
    "metadata": {}
   },
   "outputs": [
    {
     "name": "stdout",
     "output_type": "stream",
     "text": [
      "key #0: X_mean\n",
      "key #1: sign\n"
     ]
    }
   ],
   "source": [
    "file_dict_npz = np.load(os.path.join(FILE_DIR,'test_files','npz_dict.npz'), allow_pickle=True)\n",
    "for i,key in enumerate(file_dict_npz.keys()):\n",
    "    print(f'key #{i}: {key}')"
   ]
  },
  {
   "cell_type": "code",
   "execution_count": 12,
   "metadata": {
    "metadata": {}
   },
   "outputs": [
    {
     "data": {
      "text/plain": [
       "2"
      ]
     },
     "execution_count": 12,
     "metadata": {},
     "output_type": "execute_result"
    }
   ],
   "source": [
    "file_arr = read_pickle(os.path.join(FILE_DIR,'test_files'),'npz_array.pkl')\n",
    "len(file_arr)\n"
   ]
  },
  {
   "cell_type": "code",
   "execution_count": null,
   "metadata": {},
   "outputs": [],
   "source": []
  }
 ],
 "metadata": {
  "kernelspec": {
   "display_name": "praxis_env",
   "language": "python",
   "name": "python3"
  },
  "language_info": {
   "codemirror_mode": {
    "name": "ipython",
    "version": 3
   },
   "file_extension": ".py",
   "mimetype": "text/x-python",
   "name": "python",
   "nbconvert_exporter": "python",
   "pygments_lexer": "ipython3",
   "version": "3.9.18"
  }
 },
 "nbformat": 4,
 "nbformat_minor": 2
}
