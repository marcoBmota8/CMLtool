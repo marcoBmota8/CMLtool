{
 "cells": [
  {
   "cell_type": "code",
   "execution_count": null,
   "metadata": {
    "metadata": {}
   },
   "outputs": [],
   "source": [
    "import os\n",
    "\n",
    "import numpy as np\n",
    "from sklearn.utils import resample\n",
    "from CML_tool.decorators import file_based_cacheing"
   ]
  },
  {
   "cell_type": "code",
   "execution_count": null,
   "metadata": {},
   "outputs": [],
   "source": [
    "def fn_sign(size:tuple=(10,20,50)):\n",
    "    \n",
    "    return "
   ]
  },
  {
   "cell_type": "code",
   "execution_count": null,
   "metadata": {
    "metadata": {}
   },
   "outputs": [],
   "source": [
    "# Define different distribution parameters\n",
    "distributions = [\n",
    "    {\"mu\": 0, \"sigma\": 1, \"label\": \"Standard Normal\"},\n",
    "    {\"mu\": 2, \"sigma\": 0.5, \"label\": \"Narrow Peak\"},\n",
    "    {\"mu\": -1, \"sigma\": 2, \"label\": \"Wide Spread\"},\n",
    "    {\"mu\": 3, \"sigma\": 1.5, \"label\": \"Shifted Right\"}\n",
    "]\n",
    "\n",
    "num_samples = 100\n",
    "num_bootstraps = 500\n",
    "\n",
    "# Generate data matrix\n",
    "matrix = np.column_stack([\n",
    "        np.random.normal(dist['mu'], dist['sigma'], num_samples) \n",
    "        for dist in distributions\n",
    "        ])\n",
    "\n",
    "# Perform bootstrapping using sklearn's resample\n",
    "boot_matrix = np.zeros((num_samples, len(distributions), num_bootstraps))\n",
    "for i in range(num_bootstraps):\n",
    "    # For each column (distribution), resample using sklearn\n",
    "    for j in range(len(distributions)):\n",
    "        boot_matrix[:, j, i] = resample(\n",
    "            matrix[:, j], \n",
    "            n_samples=num_samples, \n",
    "            replace=True, \n",
    "            random_state=i  # Use iteration as random state for reproducibility\n",
    "        )"
   ]
  },
  {
   "cell_type": "code",
   "execution_count": null,
   "metadata": {
    "metadata": {}
   },
   "outputs": [],
   "source": []
  },
  {
   "cell_type": "code",
   "execution_count": null,
   "metadata": {},
   "outputs": [],
   "source": []
  }
 ],
 "metadata": {
  "kernelspec": {
   "display_name": "praxis_env",
   "language": "python",
   "name": "python3"
  },
  "language_info": {
   "codemirror_mode": {
    "name": "ipython",
    "version": 3
   },
   "file_extension": ".py",
   "mimetype": "text/x-python",
   "name": "python",
   "nbconvert_exporter": "python",
   "pygments_lexer": "ipython3",
   "version": "3.9.18"
  }
 },
 "nbformat": 4,
 "nbformat_minor": 2
}
