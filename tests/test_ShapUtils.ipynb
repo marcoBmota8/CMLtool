{
 "cells": [
  {
   "cell_type": "code",
   "execution_count": 1,
   "metadata": {
    "metadata": {}
   },
   "outputs": [
    {
     "name": "stderr",
     "output_type": "stream",
     "text": [
      "<frozen importlib._bootstrap>:228: RuntimeWarning: scipy._lib.messagestream.MessageStream size changed, may indicate binary incompatibility. Expected 56 from C header, got 64 from PyObject\n"
     ]
    }
   ],
   "source": [
    "import warnings\n",
    "\n",
    "import numpy as np\n",
    "import matplotlib.pyplot as plt\n",
    "\n",
    "from sklearn.datasets import load_iris\n",
    "from sklearn.model_selection import train_test_split\n",
    "from sklearn.linear_model import LogisticRegression\n",
    "from sklearn.ensemble import RandomForestClassifier\n",
    "\n",
    "from CML_tool.ShapUtils import calculate_shap_values"
   ]
  },
  {
   "cell_type": "code",
   "execution_count": 2,
   "metadata": {
    "metadata": {}
   },
   "outputs": [
    {
     "data": {
      "text/plain": [
       "(30, 4)"
      ]
     },
     "execution_count": 2,
     "metadata": {},
     "output_type": "execute_result"
    }
   ],
   "source": [
    "# Set up binary classification problem\n",
    "iris_data = load_iris()\n",
    "X = iris_data.data\n",
    "y = iris_data.target\n",
    "y = np.where(y == 2, 1, 0)\n",
    "\n",
    "# Split data into training and test sets\n",
    "X_train, X_test, y_train, y_test = train_test_split(X, y, test_size=0.2)\n",
    "\n",
    "X_test.shape"
   ]
  },
  {
   "cell_type": "code",
   "execution_count": 3,
   "metadata": {
    "metadata": {}
   },
   "outputs": [
    {
     "data": {
      "text/html": [
       "<style>#sk-container-id-1 {color: black;}#sk-container-id-1 pre{padding: 0;}#sk-container-id-1 div.sk-toggleable {background-color: white;}#sk-container-id-1 label.sk-toggleable__label {cursor: pointer;display: block;width: 100%;margin-bottom: 0;padding: 0.3em;box-sizing: border-box;text-align: center;}#sk-container-id-1 label.sk-toggleable__label-arrow:before {content: \"▸\";float: left;margin-right: 0.25em;color: #696969;}#sk-container-id-1 label.sk-toggleable__label-arrow:hover:before {color: black;}#sk-container-id-1 div.sk-estimator:hover label.sk-toggleable__label-arrow:before {color: black;}#sk-container-id-1 div.sk-toggleable__content {max-height: 0;max-width: 0;overflow: hidden;text-align: left;background-color: #f0f8ff;}#sk-container-id-1 div.sk-toggleable__content pre {margin: 0.2em;color: black;border-radius: 0.25em;background-color: #f0f8ff;}#sk-container-id-1 input.sk-toggleable__control:checked~div.sk-toggleable__content {max-height: 200px;max-width: 100%;overflow: auto;}#sk-container-id-1 input.sk-toggleable__control:checked~label.sk-toggleable__label-arrow:before {content: \"▾\";}#sk-container-id-1 div.sk-estimator input.sk-toggleable__control:checked~label.sk-toggleable__label {background-color: #d4ebff;}#sk-container-id-1 div.sk-label input.sk-toggleable__control:checked~label.sk-toggleable__label {background-color: #d4ebff;}#sk-container-id-1 input.sk-hidden--visually {border: 0;clip: rect(1px 1px 1px 1px);clip: rect(1px, 1px, 1px, 1px);height: 1px;margin: -1px;overflow: hidden;padding: 0;position: absolute;width: 1px;}#sk-container-id-1 div.sk-estimator {font-family: monospace;background-color: #f0f8ff;border: 1px dotted black;border-radius: 0.25em;box-sizing: border-box;margin-bottom: 0.5em;}#sk-container-id-1 div.sk-estimator:hover {background-color: #d4ebff;}#sk-container-id-1 div.sk-parallel-item::after {content: \"\";width: 100%;border-bottom: 1px solid gray;flex-grow: 1;}#sk-container-id-1 div.sk-label:hover label.sk-toggleable__label {background-color: #d4ebff;}#sk-container-id-1 div.sk-serial::before {content: \"\";position: absolute;border-left: 1px solid gray;box-sizing: border-box;top: 0;bottom: 0;left: 50%;z-index: 0;}#sk-container-id-1 div.sk-serial {display: flex;flex-direction: column;align-items: center;background-color: white;padding-right: 0.2em;padding-left: 0.2em;position: relative;}#sk-container-id-1 div.sk-item {position: relative;z-index: 1;}#sk-container-id-1 div.sk-parallel {display: flex;align-items: stretch;justify-content: center;background-color: white;position: relative;}#sk-container-id-1 div.sk-item::before, #sk-container-id-1 div.sk-parallel-item::before {content: \"\";position: absolute;border-left: 1px solid gray;box-sizing: border-box;top: 0;bottom: 0;left: 50%;z-index: -1;}#sk-container-id-1 div.sk-parallel-item {display: flex;flex-direction: column;z-index: 1;position: relative;background-color: white;}#sk-container-id-1 div.sk-parallel-item:first-child::after {align-self: flex-end;width: 50%;}#sk-container-id-1 div.sk-parallel-item:last-child::after {align-self: flex-start;width: 50%;}#sk-container-id-1 div.sk-parallel-item:only-child::after {width: 0;}#sk-container-id-1 div.sk-dashed-wrapped {border: 1px dashed gray;margin: 0 0.4em 0.5em 0.4em;box-sizing: border-box;padding-bottom: 0.4em;background-color: white;}#sk-container-id-1 div.sk-label label {font-family: monospace;font-weight: bold;display: inline-block;line-height: 1.2em;}#sk-container-id-1 div.sk-label-container {text-align: center;}#sk-container-id-1 div.sk-container {/* jupyter's `normalize.less` sets `[hidden] { display: none; }` but bootstrap.min.css set `[hidden] { display: none !important; }` so we also need the `!important` here to be able to override the default hidden behavior on the sphinx rendered scikit-learn.org. See: https://github.com/scikit-learn/scikit-learn/issues/21755 */display: inline-block !important;position: relative;}#sk-container-id-1 div.sk-text-repr-fallback {display: none;}</style><div id=\"sk-container-id-1\" class=\"sk-top-container\"><div class=\"sk-text-repr-fallback\"><pre>RandomForestClassifier()</pre><b>In a Jupyter environment, please rerun this cell to show the HTML representation or trust the notebook. <br />On GitHub, the HTML representation is unable to render, please try loading this page with nbviewer.org.</b></div><div class=\"sk-container\" hidden><div class=\"sk-item\"><div class=\"sk-estimator sk-toggleable\"><input class=\"sk-toggleable__control sk-hidden--visually\" id=\"sk-estimator-id-1\" type=\"checkbox\" checked><label for=\"sk-estimator-id-1\" class=\"sk-toggleable__label sk-toggleable__label-arrow\">RandomForestClassifier</label><div class=\"sk-toggleable__content\"><pre>RandomForestClassifier()</pre></div></div></div></div></div>"
      ],
      "text/plain": [
       "RandomForestClassifier()"
      ]
     },
     "execution_count": 3,
     "metadata": {},
     "output_type": "execute_result"
    }
   ],
   "source": [
    "# Train a logistic regression model\n",
    "log_reg = LogisticRegression()\n",
    "log_reg.fit(X_train, y_train)\n",
    "\n",
    "# Train a random forest model\n",
    "rf = RandomForestClassifier()\n",
    "rf.fit(X_train, y_train)"
   ]
  },
  {
   "cell_type": "code",
   "execution_count": 4,
   "metadata": {
    "metadata": {}
   },
   "outputs": [
    {
     "name": "stderr",
     "output_type": "stream",
     "text": [
      "WARNING: Selected 'identity' as link function with a classifier model and LinearExplainer.\n",
      "                LinearExplainer ignores the passed link function and always uses identity pre logistic transformation.\n",
      "                Hence, shapley values are computed in log-odds space.\n",
      "                For marginal probability contributions apply a logistic function to the provided output.\n",
      "                \n",
      "WARNING: Feature perturbation is set to observational with LinearExplainer.\n",
      "                The LinearExplainer uses the Impute masker intead of the Partition masker.\n",
      "                          \n"
     ]
    }
   ],
   "source": [
    "# Logistic regression\n",
    "# warnings.filterwarnings(\"ignore\", category=UserWarning) # Ignore the function warnings\n",
    "warnings.filterwarnings(\"default\", category=UserWarning) # See the function warnings\n",
    "\n",
    "log_shap = calculate_shap_values(\n",
    "    model=log_reg,\n",
    "    background_data=X_train,\n",
    "    training_outcome=y_train,\n",
    "    test_data=X_test,\n",
    "    pretrained=True,\n",
    "    explainer_type='linear',\n",
    "    link_function='identity',\n",
    "    feature_perturbation='observational'\n",
    "    )"
   ]
  },
  {
   "cell_type": "code",
   "execution_count": 14,
   "metadata": {
    "metadata": {}
   },
   "outputs": [
    {
     "name": "stderr",
     "output_type": "stream",
     "text": [
      "Provided Shapley values are in probability units.\n"
     ]
    }
   ],
   "source": [
    "# Tree-based models\n",
    "# warnings.filterwarnings(\"ignore\", category=UserWarning) # Ignore the function warnings\n",
    "warnings.filterwarnings(\"default\", category=UserWarning) # See the function warnings\n",
    "\n",
    "log_shap = calculate_shap_values(\n",
    "    model=rf,\n",
    "    background_data=X_train,\n",
    "    training_outcome=y_train,\n",
    "    test_data=X_test,\n",
    "    pretrained=True,\n",
    "    explainer_type='tree',\n",
    "    link_function='identity',\n",
    "    feature_perturbation='interventional'\n",
    "    )"
   ]
  },
  {
   "cell_type": "code",
   "execution_count": 6,
   "metadata": {
    "metadata": {}
   },
   "outputs": [
    {
     "data": {
      "text/plain": [
       "(30, 4)"
      ]
     },
     "execution_count": 6,
     "metadata": {},
     "output_type": "execute_result"
    }
   ],
   "source": [
    "log_shap.shape"
   ]
  },
  {
   "cell_type": "code",
   "execution_count": 7,
   "metadata": {
    "metadata": {}
   },
   "outputs": [
    {
     "data": {
      "text/plain": [
       "(array([1., 1., 0., 0., 0., 0., 0., 1., 0., 1.]),\n",
       " array([-0.32545757, -0.29262884, -0.25980011, -0.22697139, -0.19414266,\n",
       "        -0.16131393, -0.12848521, -0.09565648, -0.06282776, -0.02999903,\n",
       "         0.0028297 ]),\n",
       " <BarContainer object of 10 artists>)"
      ]
     },
     "execution_count": 7,
     "metadata": {},
     "output_type": "execute_result"
    },
    {
     "data": {
      "image/png": "[encoded data removed]",
      "text/plain": [
       "<Figure size 640x480 with 1 Axes>"
      ]
     },
     "metadata": {},
     "output_type": "display_data"
    }
   ],
   "source": [
    "plt.hist(log_shap[0])"
   ]
  },
  {
   "cell_type": "code",
   "execution_count": 8,
   "metadata": {
    "metadata": {}
   },
   "outputs": [
    {
     "data": {
      "text/html": [
       "<style>#sk-container-id-2 {color: black;}#sk-container-id-2 pre{padding: 0;}#sk-container-id-2 div.sk-toggleable {background-color: white;}#sk-container-id-2 label.sk-toggleable__label {cursor: pointer;display: block;width: 100%;margin-bottom: 0;padding: 0.3em;box-sizing: border-box;text-align: center;}#sk-container-id-2 label.sk-toggleable__label-arrow:before {content: \"▸\";float: left;margin-right: 0.25em;color: #696969;}#sk-container-id-2 label.sk-toggleable__label-arrow:hover:before {color: black;}#sk-container-id-2 div.sk-estimator:hover label.sk-toggleable__label-arrow:before {color: black;}#sk-container-id-2 div.sk-toggleable__content {max-height: 0;max-width: 0;overflow: hidden;text-align: left;background-color: #f0f8ff;}#sk-container-id-2 div.sk-toggleable__content pre {margin: 0.2em;color: black;border-radius: 0.25em;background-color: #f0f8ff;}#sk-container-id-2 input.sk-toggleable__control:checked~div.sk-toggleable__content {max-height: 200px;max-width: 100%;overflow: auto;}#sk-container-id-2 input.sk-toggleable__control:checked~label.sk-toggleable__label-arrow:before {content: \"▾\";}#sk-container-id-2 div.sk-estimator input.sk-toggleable__control:checked~label.sk-toggleable__label {background-color: #d4ebff;}#sk-container-id-2 div.sk-label input.sk-toggleable__control:checked~label.sk-toggleable__label {background-color: #d4ebff;}#sk-container-id-2 input.sk-hidden--visually {border: 0;clip: rect(1px 1px 1px 1px);clip: rect(1px, 1px, 1px, 1px);height: 1px;margin: -1px;overflow: hidden;padding: 0;position: absolute;width: 1px;}#sk-container-id-2 div.sk-estimator {font-family: monospace;background-color: #f0f8ff;border: 1px dotted black;border-radius: 0.25em;box-sizing: border-box;margin-bottom: 0.5em;}#sk-container-id-2 div.sk-estimator:hover {background-color: #d4ebff;}#sk-container-id-2 div.sk-parallel-item::after {content: \"\";width: 100%;border-bottom: 1px solid gray;flex-grow: 1;}#sk-container-id-2 div.sk-label:hover label.sk-toggleable__label {background-color: #d4ebff;}#sk-container-id-2 div.sk-serial::before {content: \"\";position: absolute;border-left: 1px solid gray;box-sizing: border-box;top: 0;bottom: 0;left: 50%;z-index: 0;}#sk-container-id-2 div.sk-serial {display: flex;flex-direction: column;align-items: center;background-color: white;padding-right: 0.2em;padding-left: 0.2em;position: relative;}#sk-container-id-2 div.sk-item {position: relative;z-index: 1;}#sk-container-id-2 div.sk-parallel {display: flex;align-items: stretch;justify-content: center;background-color: white;position: relative;}#sk-container-id-2 div.sk-item::before, #sk-container-id-2 div.sk-parallel-item::before {content: \"\";position: absolute;border-left: 1px solid gray;box-sizing: border-box;top: 0;bottom: 0;left: 50%;z-index: -1;}#sk-container-id-2 div.sk-parallel-item {display: flex;flex-direction: column;z-index: 1;position: relative;background-color: white;}#sk-container-id-2 div.sk-parallel-item:first-child::after {align-self: flex-end;width: 50%;}#sk-container-id-2 div.sk-parallel-item:last-child::after {align-self: flex-start;width: 50%;}#sk-container-id-2 div.sk-parallel-item:only-child::after {width: 0;}#sk-container-id-2 div.sk-dashed-wrapped {border: 1px dashed gray;margin: 0 0.4em 0.5em 0.4em;box-sizing: border-box;padding-bottom: 0.4em;background-color: white;}#sk-container-id-2 div.sk-label label {font-family: monospace;font-weight: bold;display: inline-block;line-height: 1.2em;}#sk-container-id-2 div.sk-label-container {text-align: center;}#sk-container-id-2 div.sk-container {/* jupyter's `normalize.less` sets `[hidden] { display: none; }` but bootstrap.min.css set `[hidden] { display: none !important; }` so we also need the `!important` here to be able to override the default hidden behavior on the sphinx rendered scikit-learn.org. See: https://github.com/scikit-learn/scikit-learn/issues/21755 */display: inline-block !important;position: relative;}#sk-container-id-2 div.sk-text-repr-fallback {display: none;}</style><div id=\"sk-container-id-2\" class=\"sk-top-container\"><div class=\"sk-text-repr-fallback\"><pre>DecisionTreeClassifier()</pre><b>In a Jupyter environment, please rerun this cell to show the HTML representation or trust the notebook. <br />On GitHub, the HTML representation is unable to render, please try loading this page with nbviewer.org.</b></div><div class=\"sk-container\" hidden><div class=\"sk-item\"><div class=\"sk-estimator sk-toggleable\"><input class=\"sk-toggleable__control sk-hidden--visually\" id=\"sk-estimator-id-2\" type=\"checkbox\" checked><label for=\"sk-estimator-id-2\" class=\"sk-toggleable__label sk-toggleable__label-arrow\">DecisionTreeClassifier</label><div class=\"sk-toggleable__content\"><pre>DecisionTreeClassifier()</pre></div></div></div></div></div>"
      ],
      "text/plain": [
       "DecisionTreeClassifier()"
      ]
     },
     "execution_count": 8,
     "metadata": {},
     "output_type": "execute_result"
    }
   ],
   "source": [
    "rf.estimator_"
   ]
  },
  {
   "cell_type": "code",
   "execution_count": 9,
   "metadata": {
    "metadata": {}
   },
   "outputs": [
    {
     "data": {
      "text/plain": [
       "[DecisionTreeClassifier(max_features='sqrt', random_state=504824530),\n",
       " DecisionTreeClassifier(max_features='sqrt', random_state=1757045504),\n",
       " DecisionTreeClassifier(max_features='sqrt', random_state=1421788827),\n",
       " DecisionTreeClassifier(max_features='sqrt', random_state=8917689),\n",
       " DecisionTreeClassifier(max_features='sqrt', random_state=829282626),\n",
       " DecisionTreeClassifier(max_features='sqrt', random_state=1305001312),\n",
       " DecisionTreeClassifier(max_features='sqrt', random_state=895592928),\n",
       " DecisionTreeClassifier(max_features='sqrt', random_state=512644398),\n",
       " DecisionTreeClassifier(max_features='sqrt', random_state=1727666424),\n",
       " DecisionTreeClassifier(max_features='sqrt', random_state=517361418),\n",
       " DecisionTreeClassifier(max_features='sqrt', random_state=1582944429),\n",
       " DecisionTreeClassifier(max_features='sqrt', random_state=2105938026),\n",
       " DecisionTreeClassifier(max_features='sqrt', random_state=2012483675),\n",
       " DecisionTreeClassifier(max_features='sqrt', random_state=262910721),\n",
       " DecisionTreeClassifier(max_features='sqrt', random_state=300744058),\n",
       " DecisionTreeClassifier(max_features='sqrt', random_state=1788995264),\n",
       " DecisionTreeClassifier(max_features='sqrt', random_state=512928951),\n",
       " DecisionTreeClassifier(max_features='sqrt', random_state=723078955),\n",
       " DecisionTreeClassifier(max_features='sqrt', random_state=1422341387),\n",
       " DecisionTreeClassifier(max_features='sqrt', random_state=1578672556),\n",
       " DecisionTreeClassifier(max_features='sqrt', random_state=848868658),\n",
       " DecisionTreeClassifier(max_features='sqrt', random_state=364713722),\n",
       " DecisionTreeClassifier(max_features='sqrt', random_state=3190772),\n",
       " DecisionTreeClassifier(max_features='sqrt', random_state=836146289),\n",
       " DecisionTreeClassifier(max_features='sqrt', random_state=1942448414),\n",
       " DecisionTreeClassifier(max_features='sqrt', random_state=981428391),\n",
       " DecisionTreeClassifier(max_features='sqrt', random_state=1465177025),\n",
       " DecisionTreeClassifier(max_features='sqrt', random_state=999981378),\n",
       " DecisionTreeClassifier(max_features='sqrt', random_state=445718928),\n",
       " DecisionTreeClassifier(max_features='sqrt', random_state=1381275564),\n",
       " DecisionTreeClassifier(max_features='sqrt', random_state=372292026),\n",
       " DecisionTreeClassifier(max_features='sqrt', random_state=1629933209),\n",
       " DecisionTreeClassifier(max_features='sqrt', random_state=489615507),\n",
       " DecisionTreeClassifier(max_features='sqrt', random_state=920506904),\n",
       " DecisionTreeClassifier(max_features='sqrt', random_state=553431424),\n",
       " DecisionTreeClassifier(max_features='sqrt', random_state=751554136),\n",
       " DecisionTreeClassifier(max_features='sqrt', random_state=1906368843),\n",
       " DecisionTreeClassifier(max_features='sqrt', random_state=1633397599),\n",
       " DecisionTreeClassifier(max_features='sqrt', random_state=929421359),\n",
       " DecisionTreeClassifier(max_features='sqrt', random_state=738957377),\n",
       " DecisionTreeClassifier(max_features='sqrt', random_state=1982374548),\n",
       " DecisionTreeClassifier(max_features='sqrt', random_state=1000137696),\n",
       " DecisionTreeClassifier(max_features='sqrt', random_state=1610395113),\n",
       " DecisionTreeClassifier(max_features='sqrt', random_state=1448026808),\n",
       " DecisionTreeClassifier(max_features='sqrt', random_state=1664786392),\n",
       " DecisionTreeClassifier(max_features='sqrt', random_state=1971237716),\n",
       " DecisionTreeClassifier(max_features='sqrt', random_state=141543187),\n",
       " DecisionTreeClassifier(max_features='sqrt', random_state=1485225387),\n",
       " DecisionTreeClassifier(max_features='sqrt', random_state=465360875),\n",
       " DecisionTreeClassifier(max_features='sqrt', random_state=1273085786),\n",
       " DecisionTreeClassifier(max_features='sqrt', random_state=47578402),\n",
       " DecisionTreeClassifier(max_features='sqrt', random_state=1612266262),\n",
       " DecisionTreeClassifier(max_features='sqrt', random_state=1171918727),\n",
       " DecisionTreeClassifier(max_features='sqrt', random_state=732940365),\n",
       " DecisionTreeClassifier(max_features='sqrt', random_state=893245276),\n",
       " DecisionTreeClassifier(max_features='sqrt', random_state=442023389),\n",
       " DecisionTreeClassifier(max_features='sqrt', random_state=240126627),\n",
       " DecisionTreeClassifier(max_features='sqrt', random_state=1343777253),\n",
       " DecisionTreeClassifier(max_features='sqrt', random_state=154337128),\n",
       " DecisionTreeClassifier(max_features='sqrt', random_state=189272366),\n",
       " DecisionTreeClassifier(max_features='sqrt', random_state=588858532),\n",
       " DecisionTreeClassifier(max_features='sqrt', random_state=1809756795),\n",
       " DecisionTreeClassifier(max_features='sqrt', random_state=2123193225),\n",
       " DecisionTreeClassifier(max_features='sqrt', random_state=77035973),\n",
       " DecisionTreeClassifier(max_features='sqrt', random_state=727410631),\n",
       " DecisionTreeClassifier(max_features='sqrt', random_state=972866049),\n",
       " DecisionTreeClassifier(max_features='sqrt', random_state=1780356237),\n",
       " DecisionTreeClassifier(max_features='sqrt', random_state=832739399),\n",
       " DecisionTreeClassifier(max_features='sqrt', random_state=1793966486),\n",
       " DecisionTreeClassifier(max_features='sqrt', random_state=971252889),\n",
       " DecisionTreeClassifier(max_features='sqrt', random_state=781700427),\n",
       " DecisionTreeClassifier(max_features='sqrt', random_state=633812673),\n",
       " DecisionTreeClassifier(max_features='sqrt', random_state=124348547),\n",
       " DecisionTreeClassifier(max_features='sqrt', random_state=1011761165),\n",
       " DecisionTreeClassifier(max_features='sqrt', random_state=153752743),\n",
       " DecisionTreeClassifier(max_features='sqrt', random_state=346550429),\n",
       " DecisionTreeClassifier(max_features='sqrt', random_state=956906741),\n",
       " DecisionTreeClassifier(max_features='sqrt', random_state=469572283),\n",
       " DecisionTreeClassifier(max_features='sqrt', random_state=695451588),\n",
       " DecisionTreeClassifier(max_features='sqrt', random_state=717555885),\n",
       " DecisionTreeClassifier(max_features='sqrt', random_state=358101466),\n",
       " DecisionTreeClassifier(max_features='sqrt', random_state=250637610),\n",
       " DecisionTreeClassifier(max_features='sqrt', random_state=330643447),\n",
       " DecisionTreeClassifier(max_features='sqrt', random_state=2018385676),\n",
       " DecisionTreeClassifier(max_features='sqrt', random_state=159891045),\n",
       " DecisionTreeClassifier(max_features='sqrt', random_state=2096607633),\n",
       " DecisionTreeClassifier(max_features='sqrt', random_state=997361113),\n",
       " DecisionTreeClassifier(max_features='sqrt', random_state=126263604),\n",
       " DecisionTreeClassifier(max_features='sqrt', random_state=966054201),\n",
       " DecisionTreeClassifier(max_features='sqrt', random_state=109898555),\n",
       " DecisionTreeClassifier(max_features='sqrt', random_state=388618737),\n",
       " DecisionTreeClassifier(max_features='sqrt', random_state=692445897),\n",
       " DecisionTreeClassifier(max_features='sqrt', random_state=1118458390),\n",
       " DecisionTreeClassifier(max_features='sqrt', random_state=1239560894),\n",
       " DecisionTreeClassifier(max_features='sqrt', random_state=1101234229),\n",
       " DecisionTreeClassifier(max_features='sqrt', random_state=525816716),\n",
       " DecisionTreeClassifier(max_features='sqrt', random_state=1691294915),\n",
       " DecisionTreeClassifier(max_features='sqrt', random_state=1615310522),\n",
       " DecisionTreeClassifier(max_features='sqrt', random_state=1438594410),\n",
       " DecisionTreeClassifier(max_features='sqrt', random_state=896347032)]"
      ]
     },
     "execution_count": 9,
     "metadata": {},
     "output_type": "execute_result"
    }
   ],
   "source": [
    "rf.estimators_"
   ]
  },
  {
   "cell_type": "code",
   "execution_count": 10,
   "metadata": {
    "metadata": {}
   },
   "outputs": [
    {
     "data": {
      "text/plain": [
       "numpy.float64"
      ]
     },
     "execution_count": 10,
     "metadata": {},
     "output_type": "execute_result"
    }
   ],
   "source": [
    "rf.estimators_[0].tree_.value.dtype.type"
   ]
  },
  {
   "cell_type": "code",
   "execution_count": null,
   "metadata": {},
   "outputs": [],
   "source": []
  }
 ],
 "metadata": {
  "kernelspec": {
   "display_name": "Python 3",
   "language": "python",
   "name": "python3"
  },
  "language_info": {
   "codemirror_mode": {
    "name": "ipython",
    "version": 3
   },
   "file_extension": ".py",
   "mimetype": "text/x-python",
   "name": "python",
   "nbconvert_exporter": "python",
   "pygments_lexer": "ipython3",
   "version": "3.9.18"
  }
 },
 "nbformat": 4,
 "nbformat_minor": 2
}
